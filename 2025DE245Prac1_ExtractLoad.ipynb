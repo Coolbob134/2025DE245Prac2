{
  "nbformat": 4,
  "nbformat_minor": 0,
  "metadata": {
    "colab": {
      "provenance": []
    },
    "kernelspec": {
      "name": "python3",
      "display_name": "Python 3"
    },
    "language_info": {
      "name": "python"
    }
  },
  "cells": [
    {
      "cell_type": "markdown",
      "source": [
        "# Introduction to Python for Data Engineering\n",
        "\n",
        "This notebook demonstrates how to read data from a public API, process it to create useful information, and store the result in an SQLite database.\n",
        "\n",
        "It assumes you have read [this article](https://www.startdataengineering.com/post/python-for-de/#extract--load-read-and-write-data-to-any-system).\n",
        "\n",
        "**Acknowledgment**: Parts of this notebook were developed with the assistance of ChatGPT, an AI language model by OpenAI, to support instructional design and coding tasks related to data engineering concepts."
      ],
      "metadata": {
        "id": "Fok6QWp9znpg"
      }
    },
    {
      "cell_type": "code",
      "execution_count": 2,
      "metadata": {
        "colab": {
          "base_uri": "https://localhost:8080/"
        },
        "id": "vpIOn2KKzVhs",
        "outputId": "a37c0e6f-85d2-4708-e50a-4b16c16438f3"
      },
      "outputs": [
        {
          "output_type": "stream",
          "name": "stdout",
          "text": [
            "Requirement already satisfied: requests in /usr/local/lib/python3.11/dist-packages (2.32.3)\n",
            "Requirement already satisfied: charset-normalizer<4,>=2 in /usr/local/lib/python3.11/dist-packages (from requests) (3.4.2)\n",
            "Requirement already satisfied: idna<4,>=2.5 in /usr/local/lib/python3.11/dist-packages (from requests) (3.10)\n",
            "Requirement already satisfied: urllib3<3,>=1.21.1 in /usr/local/lib/python3.11/dist-packages (from requests) (2.5.0)\n",
            "Requirement already satisfied: certifi>=2017.4.17 in /usr/local/lib/python3.11/dist-packages (from requests) (2025.8.3)\n"
          ]
        }
      ],
      "source": [
        "# Install required packages\n",
        "!pip install requests"
      ]
    },
    {
      "cell_type": "code",
      "source": [
        "# Import libraries\n",
        "import requests\n",
        "import sqlite3\n",
        "from datetime import datetime"
      ],
      "metadata": {
        "id": "o2zpVKtTz-8k"
      },
      "execution_count": 3,
      "outputs": []
    },
    {
      "cell_type": "code",
      "source": [
        "# Read data from CoinGecko API\n",
        "currency = \"zar\" #currency code entered by user\n",
        "url = f\"https://api.coingecko.com/api/v3/simple/price?ids=bitcoin&vs_currencies={currency}\"\n",
        "response = requests.get(url)\n",
        "data = response.json()\n",
        "\n",
        "data\n",
        "\n",
        "url = \"https://api.coingecko.com/api/v3/simple/price?ids=bitcoin&vs_currencies=usd\"\n",
        "response = requests.get(url)\n",
        "datausd = response.json()\n",
        "\n",
        "datausd\n"
      ],
      "metadata": {
        "colab": {
          "base_uri": "https://localhost:8080/"
        },
        "id": "lu4NR0Rf0LKn",
        "outputId": "320990b6-5e08-497b-d827-0215b6b8ba26"
      },
      "execution_count": 16,
      "outputs": [
        {
          "output_type": "execute_result",
          "data": {
            "text/plain": [
              "{'bitcoin': {'zar': 2103358}}"
            ]
          },
          "metadata": {},
          "execution_count": 16
        }
      ]
    },
    {
      "cell_type": "markdown",
      "source": [
        "We will extract the Bitcoin price in USD and convert it to ZAR using an estimated exchange rate.\n",
        "This is an example of turning raw data into useful **information**."
      ],
      "metadata": {
        "id": "6-vfkALo0P9Q"
      }
    },
    {
      "cell_type": "code",
      "source": [
        "# Extract USD price and apply transformation\n",
        "price = data[\"bitcoin\"][f\"{currency}\"]\n",
        "priceusd = datausd[\"bitcoin\"][f\"usd\"]\n",
        "timestamp = datetime.now().isoformat()\n",
        "\n",
        "print(f\"Bitcoin price in {currency}: {price}\")\n"
      ],
      "metadata": {
        "colab": {
          "base_uri": "https://localhost:8080/"
        },
        "id": "ecC-Yy-E0a_t",
        "outputId": "84fba460-3be0-448f-f516-38007602f628"
      },
      "execution_count": 17,
      "outputs": [
        {
          "output_type": "stream",
          "name": "stdout",
          "text": [
            "Bitcoin price in zar: 2103358\n"
          ]
        }
      ]
    },
    {
      "cell_type": "code",
      "source": [
        "# Connect to SQLite database (or create it)\n",
        "conn = sqlite3.connect(\"bitcoin_prices.db\")\n",
        "cursor = conn.cursor()\n",
        "\n",
        "# Create table if it doesn't exist\n",
        "cursor.execute('''\n",
        "CREATE TABLE IF NOT EXISTS prices (\n",
        "    -- These are SQL comments. Similarly /* ... */ for multi-line comments\n",
        "    -- If timestamp should be unique (e.g., one price per moment):\n",
        "    -- timestamp TEXT PRIMARY KEY,\n",
        "    -- If multiple prices per second are expected, or if you want a simple unique ID:\n",
        "    -- id INTEGER PRIMARY KEY AUTOINCREMENT,\n",
        "    timestamp TEXT,\n",
        "    usd REAL,\n",
        "    zar REAL\n",
        ")\n",
        "''')\n",
        "\n",
        "# Insert the new row\n",
        "cursor.execute(\"INSERT INTO prices VALUES (?, ?, ?)\", (timestamp, priceusd, price))\n",
        "conn.commit()\n",
        "conn.close()\n"
      ],
      "metadata": {
        "id": "wpimWgg00lgl"
      },
      "execution_count": null,
      "outputs": []
    },
    {
      "cell_type": "code",
      "source": [
        "# Check if data was successfully written\n",
        "conn = sqlite3.connect(\"bitcoin_prices.db\")\n",
        "cursor = conn.cursor()\n",
        "\n",
        "# Show the last 5 rows\n",
        "rows = cursor.execute(\"SELECT * FROM prices ORDER BY timestamp DESC LIMIT 5\").fetchall()\n",
        "for row in rows:\n",
        "    print(row)\n",
        "\n",
        "conn.close()\n"
      ],
      "metadata": {
        "colab": {
          "base_uri": "https://localhost:8080/"
        },
        "id": "URSO8F6x0q1q",
        "outputId": "b9be3434-bc0d-4646-93d5-70729de945c0"
      },
      "execution_count": null,
      "outputs": [
        {
          "output_type": "stream",
          "name": "stdout",
          "text": [
            "('2025-07-30T07:34:20.348960', 118306.0, 2188661.0)\n",
            "('2025-07-30T06:37:14.703790', 118174.0, 2186219.0)\n"
          ]
        }
      ]
    }
  ]
}